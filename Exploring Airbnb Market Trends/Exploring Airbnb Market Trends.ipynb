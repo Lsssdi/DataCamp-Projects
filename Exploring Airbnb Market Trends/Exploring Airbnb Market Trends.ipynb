{
 "cells": [
  {
   "cell_type": "markdown",
   "id": "c747d469-ee97-4b95-880f-feefd5456042",
   "metadata": {
    "id": "bA5ajAmk7XH6"
   },
   "source": [
    "![NYC Skyline](nyc.jpg)\n",
    "\n",
    "Welcome to New York City, one of the most-visited cities in the world. There are many Airbnb listings in New York City to meet the high demand for temporary lodging for travelers, which can be anywhere between a few nights to many months. In this project, we will take a closer look at the New York Airbnb market by combining data from multiple file types like `.csv`, `.tsv`, and `.xlsx`.\n",
    "\n",
    "Recall that **CSV**, **TSV**, and **Excel** files are three common formats for storing data. \n",
    "Three files containing data on 2019 Airbnb listings are available to you:\n",
    "\n",
    "**data/airbnb_price.csv**\n",
    "This is a CSV file containing data on Airbnb listing prices and locations.\n",
    "- **`listing_id`**: unique identifier of listing\n",
    "- **`price`**: nightly listing price in USD\n",
    "- **`nbhood_full`**: name of borough and neighborhood where listing is located\n",
    "\n",
    "**data/airbnb_room_type.xlsx**\n",
    "This is an Excel file containing data on Airbnb listing descriptions and room types.\n",
    "- **`listing_id`**: unique identifier of listing\n",
    "- **`description`**: listing description\n",
    "- **`room_type`**: Airbnb has three types of rooms: shared rooms, private rooms, and entire homes/apartments\n",
    "\n",
    "**data/airbnb_last_review.tsv**\n",
    "This is a TSV file containing data on Airbnb host names and review dates.\n",
    "- **`listing_id`**: unique identifier of listing\n",
    "- **`host_name`**: name of listing host\n",
    "- **`last_review`**: date when the listing was last reviewed"
   ]
  },
  {
   "cell_type": "markdown",
   "id": "98aace2b",
   "metadata": {},
   "source": [
    "# INSTRUCTIONS \n",
    "\n",
    "As a consultant working for a real estate start-up, you have collected Airbnb listing data from various sources to investigate the short-term rental market in New York. You'll analyze this data to provide insights on private rooms to the real estate company.\n",
    "\n",
    "What are the dates of the earliest and most recent reviews? Store these values as two separate variables with your preferred names.\n",
    "\n",
    "How many of the listings are private rooms? Save this into any variable.\n",
    "\n",
    "What is the average listing price? Round to the nearest penny and save into a variable.\n",
    "\n",
    "Combine the new variables into one DataFrame called review_dates with four columns in the following order: first_reviewed, last_reviewed, nb_private_rooms, and avg_price"
   ]
  },
  {
   "cell_type": "code",
   "execution_count": 75,
   "id": "1fdc5784-479e-46cb-b05b-68439dcc94a7",
   "metadata": {
    "executionCancelledAt": null,
    "executionTime": 373,
    "lastExecutedAt": 1703688732518,
    "lastScheduledRunId": null,
    "lastSuccessfullyExecutedCode": "# We've loaded your first package for you! You can add as many cells as you need.\nimport numpy as np\nimport pandas as pd\n\n# Begin coding here ...\n#import files and save as datframes\nairbnb_price_df = pd.read_csv('data/airbnb_price.csv')\nairbnb_last_review_df = pd.read_csv('data/airbnb_last_review.tsv', sep='\\t')\n\n#read in excel file\nairbnb_room_type_xls = pd.ExcelFile('data/airbnb_room_type.xlsx')",
    "outputsMetadata": {
     "0": {
      "height": 57,
      "type": "stream"
     }
    }
   },
   "outputs": [
    {
     "data": {
      "text/html": [
       "<div>\n",
       "<style scoped>\n",
       "    .dataframe tbody tr th:only-of-type {\n",
       "        vertical-align: middle;\n",
       "    }\n",
       "\n",
       "    .dataframe tbody tr th {\n",
       "        vertical-align: top;\n",
       "    }\n",
       "\n",
       "    .dataframe thead th {\n",
       "        text-align: right;\n",
       "    }\n",
       "</style>\n",
       "<table border=\"1\" class=\"dataframe\">\n",
       "  <thead>\n",
       "    <tr style=\"text-align: right;\">\n",
       "      <th></th>\n",
       "      <th>listing_id</th>\n",
       "      <th>price</th>\n",
       "      <th>nbhood_full</th>\n",
       "      <th>host_name</th>\n",
       "      <th>last_review</th>\n",
       "      <th>description</th>\n",
       "      <th>room_type</th>\n",
       "    </tr>\n",
       "  </thead>\n",
       "  <tbody>\n",
       "    <tr>\n",
       "      <th>0</th>\n",
       "      <td>2595</td>\n",
       "      <td>225 dollars</td>\n",
       "      <td>Manhattan, Midtown</td>\n",
       "      <td>Jennifer</td>\n",
       "      <td>May 21 2019</td>\n",
       "      <td>Skylit Midtown Castle</td>\n",
       "      <td>Entire home/apt</td>\n",
       "    </tr>\n",
       "    <tr>\n",
       "      <th>1</th>\n",
       "      <td>3831</td>\n",
       "      <td>89 dollars</td>\n",
       "      <td>Brooklyn, Clinton Hill</td>\n",
       "      <td>LisaRoxanne</td>\n",
       "      <td>July 05 2019</td>\n",
       "      <td>Cozy Entire Floor of Brownstone</td>\n",
       "      <td>Entire home/apt</td>\n",
       "    </tr>\n",
       "    <tr>\n",
       "      <th>2</th>\n",
       "      <td>5099</td>\n",
       "      <td>200 dollars</td>\n",
       "      <td>Manhattan, Murray Hill</td>\n",
       "      <td>Chris</td>\n",
       "      <td>June 22 2019</td>\n",
       "      <td>Large Cozy 1 BR Apartment In Midtown East</td>\n",
       "      <td>Entire home/apt</td>\n",
       "    </tr>\n",
       "    <tr>\n",
       "      <th>3</th>\n",
       "      <td>5178</td>\n",
       "      <td>79 dollars</td>\n",
       "      <td>Manhattan, Hell's Kitchen</td>\n",
       "      <td>Shunichi</td>\n",
       "      <td>June 24 2019</td>\n",
       "      <td>Large Furnished Room Near B'way</td>\n",
       "      <td>private room</td>\n",
       "    </tr>\n",
       "    <tr>\n",
       "      <th>4</th>\n",
       "      <td>5238</td>\n",
       "      <td>150 dollars</td>\n",
       "      <td>Manhattan, Chinatown</td>\n",
       "      <td>Ben</td>\n",
       "      <td>June 09 2019</td>\n",
       "      <td>Cute &amp; Cozy Lower East Side 1 bdrm</td>\n",
       "      <td>Entire home/apt</td>\n",
       "    </tr>\n",
       "  </tbody>\n",
       "</table>\n",
       "</div>"
      ],
      "text/plain": [
       "   listing_id        price                nbhood_full    host_name  \\\n",
       "0        2595  225 dollars         Manhattan, Midtown     Jennifer   \n",
       "1        3831   89 dollars     Brooklyn, Clinton Hill  LisaRoxanne   \n",
       "2        5099  200 dollars     Manhattan, Murray Hill        Chris   \n",
       "3        5178   79 dollars  Manhattan, Hell's Kitchen     Shunichi   \n",
       "4        5238  150 dollars       Manhattan, Chinatown          Ben   \n",
       "\n",
       "    last_review                                description        room_type  \n",
       "0   May 21 2019                      Skylit Midtown Castle  Entire home/apt  \n",
       "1  July 05 2019            Cozy Entire Floor of Brownstone  Entire home/apt  \n",
       "2  June 22 2019  Large Cozy 1 BR Apartment In Midtown East  Entire home/apt  \n",
       "3  June 24 2019            Large Furnished Room Near B'way     private room  \n",
       "4  June 09 2019         Cute & Cozy Lower East Side 1 bdrm  Entire home/apt  "
      ]
     },
     "execution_count": 75,
     "metadata": {},
     "output_type": "execute_result"
    }
   ],
   "source": [
    "# We've loaded your first package for you! You can add as many cells as you need.\n",
    "import numpy as np\n",
    "import pandas as pd\n",
    "\n",
    "# Begin coding here ...\n",
    "#import files and save as datframes\n",
    "airbnb_price_df = pd.read_csv('airbnb_price.csv')\n",
    "airbnb_last_review_df = pd.read_csv('airbnb_last_review.tsv', sep='\\t')\n",
    "\n",
    "#read in excel file\n",
    "airbnb_room_type_xls = pd.ExcelFile('airbnb_room_type.xlsx')\n",
    "\n",
    "#save xls file as dataframe\n",
    "airbnb_room_type_df = airbnb_room_type_xls.parse(0)\n",
    "\n",
    "#join all three dataframes into one\n",
    "airbnb_df = pd.merge(airbnb_price_df, airbnb_last_review_df, on='listing_id')\n",
    "airbnb_df = pd.merge(airbnb_df, airbnb_room_type_df, on='listing_id')\n",
    "\n",
    "# preview new dataframe\n",
    "airbnb_df.head()"
   ]
  },
  {
   "cell_type": "code",
   "execution_count": 76,
   "id": "872271df",
   "metadata": {},
   "outputs": [
    {
     "name": "stdout",
     "output_type": "stream",
     "text": [
      "<class 'pandas.core.frame.DataFrame'>\n",
      "Int64Index: 25209 entries, 0 to 25208\n",
      "Data columns (total 7 columns):\n",
      " #   Column       Non-Null Count  Dtype \n",
      "---  ------       --------------  ----- \n",
      " 0   listing_id   25209 non-null  int64 \n",
      " 1   price        25209 non-null  object\n",
      " 2   nbhood_full  25209 non-null  object\n",
      " 3   host_name    25201 non-null  object\n",
      " 4   last_review  25209 non-null  object\n",
      " 5   description  25199 non-null  object\n",
      " 6   room_type    25209 non-null  object\n",
      "dtypes: int64(1), object(6)\n",
      "memory usage: 1.5+ MB\n"
     ]
    }
   ],
   "source": [
    "airbnb_df.info()"
   ]
  },
  {
   "cell_type": "code",
   "execution_count": 77,
   "id": "c77bf344",
   "metadata": {},
   "outputs": [
    {
     "data": {
      "text/html": [
       "<div>\n",
       "<style scoped>\n",
       "    .dataframe tbody tr th:only-of-type {\n",
       "        vertical-align: middle;\n",
       "    }\n",
       "\n",
       "    .dataframe tbody tr th {\n",
       "        vertical-align: top;\n",
       "    }\n",
       "\n",
       "    .dataframe thead th {\n",
       "        text-align: right;\n",
       "    }\n",
       "</style>\n",
       "<table border=\"1\" class=\"dataframe\">\n",
       "  <thead>\n",
       "    <tr style=\"text-align: right;\">\n",
       "      <th></th>\n",
       "      <th>listing_id</th>\n",
       "      <th>price</th>\n",
       "      <th>nbhood_full</th>\n",
       "      <th>host_name</th>\n",
       "      <th>last_review</th>\n",
       "      <th>description</th>\n",
       "      <th>room_type</th>\n",
       "    </tr>\n",
       "  </thead>\n",
       "  <tbody>\n",
       "    <tr>\n",
       "      <th>0</th>\n",
       "      <td>2595</td>\n",
       "      <td>225 dollars</td>\n",
       "      <td>Manhattan, Midtown</td>\n",
       "      <td>Jennifer</td>\n",
       "      <td>May 21 2019</td>\n",
       "      <td>Skylit Midtown Castle</td>\n",
       "      <td>Entire home/apt</td>\n",
       "    </tr>\n",
       "    <tr>\n",
       "      <th>1</th>\n",
       "      <td>3831</td>\n",
       "      <td>89 dollars</td>\n",
       "      <td>Brooklyn, Clinton Hill</td>\n",
       "      <td>LisaRoxanne</td>\n",
       "      <td>July 05 2019</td>\n",
       "      <td>Cozy Entire Floor of Brownstone</td>\n",
       "      <td>Entire home/apt</td>\n",
       "    </tr>\n",
       "    <tr>\n",
       "      <th>2</th>\n",
       "      <td>5099</td>\n",
       "      <td>200 dollars</td>\n",
       "      <td>Manhattan, Murray Hill</td>\n",
       "      <td>Chris</td>\n",
       "      <td>June 22 2019</td>\n",
       "      <td>Large Cozy 1 BR Apartment In Midtown East</td>\n",
       "      <td>Entire home/apt</td>\n",
       "    </tr>\n",
       "    <tr>\n",
       "      <th>3</th>\n",
       "      <td>5178</td>\n",
       "      <td>79 dollars</td>\n",
       "      <td>Manhattan, Hell's Kitchen</td>\n",
       "      <td>Shunichi</td>\n",
       "      <td>June 24 2019</td>\n",
       "      <td>Large Furnished Room Near B'way</td>\n",
       "      <td>private room</td>\n",
       "    </tr>\n",
       "    <tr>\n",
       "      <th>4</th>\n",
       "      <td>5238</td>\n",
       "      <td>150 dollars</td>\n",
       "      <td>Manhattan, Chinatown</td>\n",
       "      <td>Ben</td>\n",
       "      <td>June 09 2019</td>\n",
       "      <td>Cute &amp; Cozy Lower East Side 1 bdrm</td>\n",
       "      <td>Entire home/apt</td>\n",
       "    </tr>\n",
       "  </tbody>\n",
       "</table>\n",
       "</div>"
      ],
      "text/plain": [
       "   listing_id        price                nbhood_full    host_name  \\\n",
       "0        2595  225 dollars         Manhattan, Midtown     Jennifer   \n",
       "1        3831   89 dollars     Brooklyn, Clinton Hill  LisaRoxanne   \n",
       "2        5099  200 dollars     Manhattan, Murray Hill        Chris   \n",
       "3        5178   79 dollars  Manhattan, Hell's Kitchen     Shunichi   \n",
       "4        5238  150 dollars       Manhattan, Chinatown          Ben   \n",
       "\n",
       "    last_review                                description        room_type  \n",
       "0   May 21 2019                      Skylit Midtown Castle  Entire home/apt  \n",
       "1  July 05 2019            Cozy Entire Floor of Brownstone  Entire home/apt  \n",
       "2  June 22 2019  Large Cozy 1 BR Apartment In Midtown East  Entire home/apt  \n",
       "3  June 24 2019            Large Furnished Room Near B'way     private room  \n",
       "4  June 09 2019         Cute & Cozy Lower East Side 1 bdrm  Entire home/apt  "
      ]
     },
     "execution_count": 77,
     "metadata": {},
     "output_type": "execute_result"
    }
   ],
   "source": [
    "airbnb_df.head()"
   ]
  },
  {
   "cell_type": "code",
   "execution_count": 78,
   "id": "fa029799",
   "metadata": {},
   "outputs": [],
   "source": [
    "# What are the dates of the earliest and most recent reviews?\n",
    "# Store these values as two separate variables with your preferred names.\n",
    "\n",
    "#convert last_review column data type to date\n",
    "airbnb_df['last_review'] = pd.to_datetime(airbnb_df['last_review'], format='%B %d %Y')\n",
    "\n",
    "#sort by date from latest to earliest\n",
    "airbnb_df.sort_values('last_review', ascending=False, inplace=True)\n",
    "\n",
    "#obtain earliest review\n",
    "earliest_review_date = airbnb_df['last_review'].min()\n",
    "\n",
    "#obtain latest reviews\n",
    "latest_review_date = airbnb_df['last_review'].max()"
   ]
  },
  {
   "cell_type": "code",
   "execution_count": 79,
   "id": "b449f0eb",
   "metadata": {},
   "outputs": [
    {
     "data": {
      "text/plain": [
       "(Timestamp('2019-01-01 00:00:00'), Timestamp('2019-07-09 00:00:00'))"
      ]
     },
     "execution_count": 79,
     "metadata": {},
     "output_type": "execute_result"
    }
   ],
   "source": [
    "earliest_review_date, latest_review_date"
   ]
  },
  {
   "cell_type": "markdown",
   "id": "de7a4991",
   "metadata": {
    "executionCancelledAt": null,
    "executionTime": 50,
    "lastExecutedAt": 1703688732569,
    "lastScheduledRunId": null,
    "lastSuccessfullyExecutedCode": "#check the sheets conatined in the excel file\nprint( airbnb_room_type_xls.sheet_names)",
    "outputsMetadata": {
     "0": {
      "height": 37,
      "type": "stream"
     }
    }
   },
   "source": [
    "How many of the listings are private rooms? "
   ]
  },
  {
   "cell_type": "code",
   "execution_count": 80,
   "id": "d2892956-281d-40b3-863d-376cc726e3e5",
   "metadata": {
    "executionCancelledAt": null,
    "executionTime": 48,
    "lastExecutedAt": 1703688733756,
    "lastScheduledRunId": null,
    "lastSuccessfullyExecutedCode": "#check if room labels are uniform\nprint(airbnb_room_type_df['room_type'].unique())",
    "outputsMetadata": {
     "0": {
      "height": 77,
      "type": "stream"
     }
    }
   },
   "outputs": [
    {
     "name": "stdout",
     "output_type": "stream",
     "text": [
      "['Private room' 'Entire home/apt' 'entire home/apt' 'ENTIRE HOME/APT'\n",
      " 'private room' 'Shared room' 'PRIVATE ROOM' 'SHARED ROOM' 'shared room']\n"
     ]
    }
   ],
   "source": [
    "#check if room_type labels are uniform\n",
    "print(airbnb_df['room_type'].unique())"
   ]
  },
  {
   "cell_type": "code",
   "execution_count": 81,
   "id": "db293e0a-7b07-46fe-9366-eac681d1afc0",
   "metadata": {
    "executionCancelledAt": null,
    "executionTime": 56,
    "lastExecutedAt": 1703688733812,
    "lastScheduledRunId": null,
    "lastSuccessfullyExecutedCode": "room_labels = { 'Entire home/apt': 'entire home/apt', \n               'ENTIRE HOME/APT':'entire home/apt',\n               'Private room':'private room',\n               'PRIVATE ROOM':'private room',\n              'Shared room':'shared room',\n              'SHARED ROOM':'shared room'}\n\nairbnb_room_type_df.replace(room_labels, inplace=True)\n\nprint(airbnb_room_type_df['room_type'].unique())",
    "outputsMetadata": {
     "0": {
      "height": 37,
      "type": "stream"
     }
    }
   },
   "outputs": [
    {
     "name": "stdout",
     "output_type": "stream",
     "text": [
      "['private room' 'entire home/apt' 'shared room']\n"
     ]
    }
   ],
   "source": [
    "#make room_type labels uniform \n",
    "airbnb_df['room_type'] = airbnb_df['room_type'].str.lower()\n",
    "\n",
    "print(airbnb_df['room_type'].unique())"
   ]
  },
  {
   "cell_type": "code",
   "execution_count": 82,
   "id": "d6464f27-53c5-48cc-87bf-94ab26175ec9",
   "metadata": {
    "executionCancelledAt": null,
    "executionTime": 48,
    "lastExecutedAt": 1703688733860,
    "lastScheduledRunId": null,
    "lastSuccessfullyExecutedCode": "n_private_rooms = airbnb_room_type_df[ airbnb_room_type_df['room_type'] == \"private room\"].shape[0]\nprint(n_private_rooms)",
    "outputsMetadata": {
     "0": {
      "height": 37,
      "type": "stream"
     }
    }
   },
   "outputs": [
    {
     "data": {
      "text/plain": [
       "11356"
      ]
     },
     "execution_count": 82,
     "metadata": {},
     "output_type": "execute_result"
    }
   ],
   "source": [
    "n_private_rooms = len(airbnb_df[ airbnb_df['room_type'] == \"private room\"])\n",
    "n_private_rooms"
   ]
  },
  {
   "cell_type": "markdown",
   "id": "4a8974ab",
   "metadata": {
    "executionCancelledAt": null,
    "executionTime": 56,
    "lastExecutedAt": 1703688733916,
    "lastScheduledRunId": null,
    "lastSuccessfullyExecutedCode": "#PART 3 \n#aim : obtain average lsiting price\n\nprint(airbnb_price_df.info())",
    "outputsMetadata": {
     "0": {
      "height": 237,
      "type": "stream"
     }
    }
   },
   "source": [
    " aim : What is the average listing price? Round to the nearest penny and save into a variable."
   ]
  },
  {
   "cell_type": "code",
   "execution_count": 83,
   "id": "53e0169c-1b1d-43c3-a994-895d55ce6447",
   "metadata": {
    "executionCancelledAt": null,
    "executionTime": 52,
    "lastExecutedAt": 1703688734020,
    "lastScheduledRunId": null,
    "lastSuccessfullyExecutedCode": "#check current format of price strings\n\nprint(airbnb_price_df['price'])",
    "outputsMetadata": {
     "0": {
      "height": 257,
      "type": "stream"
     }
    }
   },
   "outputs": [
    {
     "data": {
      "text/plain": [
       "141.78"
      ]
     },
     "execution_count": 83,
     "metadata": {},
     "output_type": "execute_result"
    }
   ],
   "source": [
    "#remove ' dollars' from price labels\n",
    "avg_listing_price = airbnb_df['price'].str.replace(' dollars', '').astype('float').mean().round(2)\n",
    "avg_listing_price"
   ]
  },
  {
   "cell_type": "code",
   "execution_count": 86,
   "id": "81384a1b-ccf0-4fe2-952b-7d62aaeefef0",
   "metadata": {
    "executionCancelledAt": null,
    "executionTime": 56,
    "lastExecutedAt": 1703688734236,
    "lastScheduledRunId": null,
    "lastSuccessfullyExecutedCode": "answers = { 'first_reviewed':[earliest_review_date],\n       'last_reviewed':[mostrecent_review_date],\n       'nb_private_rooms':[n_private_rooms],\n       'avg_price':[avg_list_price]}\n\nreview_dates = pd.DataFrame(answers)\nprint(review_dates)",
    "outputsMetadata": {
     "0": {
      "height": 57,
      "type": "stream"
     }
    }
   },
   "outputs": [
    {
     "name": "stdout",
     "output_type": "stream",
     "text": [
      "  first_reviewed last_reviewed  nb_private_rooms  avg_price\n",
      "0     2019-01-01    2019-07-09             11356     141.78\n"
     ]
    }
   ],
   "source": [
    "answers = { 'first_reviewed':[earliest_review_date],\n",
    "       'last_reviewed':[latest_review_date],\n",
    "       'nb_private_rooms':[n_private_rooms],\n",
    "       'avg_price':[avg_listing_price]}\n",
    "\n",
    "review_dates = pd.DataFrame(answers)\n",
    "print(review_dates)"
   ]
  },
  {
   "cell_type": "code",
   "execution_count": null,
   "id": "207a0006",
   "metadata": {},
   "outputs": [],
   "source": []
  }
 ],
 "metadata": {
  "colab": {
   "name": "Welcome to DataCamp Workspaces.ipynb",
   "provenance": []
  },
  "kernelspec": {
   "display_name": "Python 3 (ipykernel)",
   "language": "python",
   "name": "python3"
  },
  "language_info": {
   "codemirror_mode": {
    "name": "ipython",
    "version": 3
   },
   "file_extension": ".py",
   "mimetype": "text/x-python",
   "name": "python",
   "nbconvert_exporter": "python",
   "pygments_lexer": "ipython3",
   "version": "3.11.4"
  }
 },
 "nbformat": 4,
 "nbformat_minor": 5
}
